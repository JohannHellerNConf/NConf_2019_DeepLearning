{
 "cells": [
  {
   "cell_type": "markdown",
   "metadata": {
    "colab_type": "text",
    "id": "tNazaztx-baI"
   },
   "source": [
    "# Bessere Architektur der Faltungsbasis\n",
    "\n",
    "Unser erstes Netz hat zwar gelernt die Bilder zu klassifizieren, die Genauigkeit ist jedoch ungenügend.\n",
    "\n",
    "In diesem Notebook wollen wir das Netz verbessern in dem wir eine Standard-Architektur eines anderen Netzes importieren. Als relativ leichtgewichtiges Netz wird hier das sogenannte [Mobile-Net](https://arxiv.org/abs/1704.04861) ausgewählt. Dieses von Google entwickelte Netz ist besonders klein (im Sinne von: wenig Freiheitsgrade), so dass es sich auch auf mobilen Geräten wie Smartphones ausführen lässt.\n",
    "\n"
   ]
  },
  {
   "cell_type": "markdown",
   "metadata": {
    "colab_type": "text",
    "id": "qvJ15DsqWtLw"
   },
   "source": [
    "# Transfer-Learning\n",
    "\n",
    "Die Features die Faltungsbasis in visuellen Datensätzen lernt sind oft sehr ähnlich von Datensatz zu Datensatz. Daher können wir theoretisch auch eine Faltungsbasis benutzen, welche auf einem anderen, deutlich größeren Datensatz belernt wurde, anstatt komplett von vorn anzufangen. Diese Technik nennt man Transfer-Learning. \n",
    "\n",
    "In unserem Fall bietet es sich an, eine Faltungsbasis zu nehmen welch auf [Image-Net](image-net.org) vortrainiert wurde.\n",
    "\n",
    "![](https://ai2-s2-public.s3.amazonaws.com/figures/2017-08-08/38211dc39e41273c0007889202c69f841e02248a/2-Figure1-1.png)\n",
    "\n",
    "Transfer-Learning ist eine der wichtigsten Techniken in Deep Learning und erlaubt es gute Ergebnisse auch mit relativ wenig Daten zu erreichen."
   ]
  },
  {
   "cell_type": "code",
   "execution_count": null,
   "metadata": {
    "colab": {},
    "colab_type": "code",
    "id": "Rqr8Fw5H4bzU"
   },
   "outputs": [],
   "source": [
    "# Imports und Variablen \n"
   ]
  },
  {
   "cell_type": "code",
   "execution_count": null,
   "metadata": {
    "colab": {
     "base_uri": "https://localhost:8080/",
     "height": 54
    },
    "colab_type": "code",
    "executionInfo": {
     "elapsed": 2197,
     "status": "ok",
     "timestamp": 1559734145693,
     "user": {
      "displayName": "Louis Dunkler",
      "photoUrl": "",
      "userId": "10240595284814811066"
     },
     "user_tz": -120
    },
    "id": "iSrMIL-q4bzo",
    "outputId": "dd532c21-627e-44c9-d2ec-d8b61727bf48"
   },
   "outputs": [],
   "source": [
    "# Laden der Daten Test und Trainset mit Image Augmentation\n",
    "\n"
   ]
  },
  {
   "cell_type": "markdown",
   "metadata": {
    "colab_type": "text",
    "id": "BznKFg3nY-IU"
   },
   "source": [
    "Eine vortrainierte Faltungsbasis für verschiedene Netzarchitekturen sind in fast allen DL-Frameworks vorhanden"
   ]
  },
  {
   "cell_type": "code",
   "execution_count": null,
   "metadata": {
    "colab": {},
    "colab_type": "code",
    "id": "M4aYsTWP4bz-",
    "scrolled": true
   },
   "outputs": [],
   "source": [
    "# Importieren der Faltungsbasis mit ImageNet Gewichten\n"
   ]
  },
  {
   "cell_type": "markdown",
   "metadata": {
    "colab_type": "text",
    "id": "M-6vcruZZLaz"
   },
   "source": [
    "Um den Berechnungsaufwand klein zu halten, trainieren wir nur unser draufgesetztes Fully-Connected und frieren die Gewichte der vortrainierten Faltungsbasis ein."
   ]
  },
  {
   "cell_type": "code",
   "execution_count": null,
   "metadata": {
    "colab": {
     "base_uri": "https://localhost:8080/",
     "height": 293
    },
    "colab_type": "code",
    "executionInfo": {
     "elapsed": 8374,
     "status": "ok",
     "timestamp": 1559734151947,
     "user": {
      "displayName": "Louis Dunkler",
      "photoUrl": "",
      "userId": "10240595284814811066"
     },
     "user_tz": -120
    },
    "id": "h83m5uAp4b0I",
    "outputId": "e1ea0698-dfb0-489b-9932-b02c5a4fee30"
   },
   "outputs": [],
   "source": [
    "# Model definieren\n",
    "\n",
    "# Faltungsbasis\n",
    "\n",
    "# Fully Connected Schicht\n",
    "\n",
    "# Faltungsbasis nicht trainierbar machen\n"
   ]
  },
  {
   "cell_type": "code",
   "execution_count": null,
   "metadata": {
    "colab": {},
    "colab_type": "code",
    "id": "Rh1yKvd64b0X"
   },
   "outputs": [],
   "source": [
    "# Assemblieren den Modells\n"
   ]
  },
  {
   "cell_type": "code",
   "execution_count": null,
   "metadata": {
    "colab": {
     "base_uri": "https://localhost:8080/",
     "height": 384
    },
    "colab_type": "code",
    "executionInfo": {
     "elapsed": 266870,
     "status": "ok",
     "timestamp": 1559734410504,
     "user": {
      "displayName": "Louis Dunkler",
      "photoUrl": "",
      "userId": "10240595284814811066"
     },
     "user_tz": -120
    },
    "id": "2UaH7f6j4b0f",
    "outputId": "996b4561-4391-4696-d3c1-a19742689f96"
   },
   "outputs": [],
   "source": [
    "# Trainieren des Modells\n"
   ]
  },
  {
   "cell_type": "code",
   "execution_count": null,
   "metadata": {
    "colab": {
     "base_uri": "https://localhost:8080/",
     "height": 301
    },
    "colab_type": "code",
    "executionInfo": {
     "elapsed": 266851,
     "status": "ok",
     "timestamp": 1559734410513,
     "user": {
      "displayName": "Louis Dunkler",
      "photoUrl": "",
      "userId": "10240595284814811066"
     },
     "user_tz": -120
    },
    "id": "WndPSeYh4b0q",
    "outputId": "bb98781a-0e9a-4fca-fe3b-536c25251c75"
   },
   "outputs": [],
   "source": [
    "# Plotten der Modell Genauigkeit\n"
   ]
  },
  {
   "cell_type": "code",
   "execution_count": null,
   "metadata": {
    "colab": {},
    "colab_type": "code",
    "id": "uAJrxanp4b0z"
   },
   "outputs": [],
   "source": [
    "# Model Speichern\n"
   ]
  }
 ],
 "metadata": {
  "accelerator": "GPU",
  "colab": {
   "collapsed_sections": [],
   "name": "5_NConf_TransferLearning_frozen_conv.ipynb",
   "provenance": [],
   "version": "0.3.2"
  },
  "kernelspec": {
   "display_name": "Python 3",
   "language": "python",
   "name": "python3"
  },
  "language_info": {
   "codemirror_mode": {
    "name": "ipython",
    "version": 3
   },
   "file_extension": ".py",
   "mimetype": "text/x-python",
   "name": "python",
   "nbconvert_exporter": "python",
   "pygments_lexer": "ipython3",
   "version": "3.6.7"
  }
 },
 "nbformat": 4,
 "nbformat_minor": 1
}
