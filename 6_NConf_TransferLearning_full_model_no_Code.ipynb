{
 "cells": [
  {
   "cell_type": "markdown",
   "metadata": {
    "colab_type": "text",
    "id": "bAo30uYhZ1O4"
   },
   "source": [
    "# Finales Modell\n",
    "\n",
    "In diesem Notebook wollen wir ein deutlich größeres Netz als bisher trainieren. Auch hier wird wieder eine standard-Architektur (in diese Fall [Resnet50](https://arxiv.org/abs/1512.03385)) mit Transfer-Learning verwendet.\n",
    "\n",
    "Dieses mal, wird die Faltungsbasis jedoch nicht eingefroren, sondern mit relativ kleiner Lernrate mittrainiert."
   ]
  },
  {
   "cell_type": "code",
   "execution_count": null,
   "metadata": {
    "colab": {
     "base_uri": "https://localhost:8080/",
     "height": 35
    },
    "colab_type": "code",
    "executionInfo": {
     "elapsed": 2029,
     "status": "ok",
     "timestamp": 1559730358073,
     "user": {
      "displayName": "Louis Dunkler",
      "photoUrl": "",
      "userId": "10240595284814811066"
     },
     "user_tz": -120
    },
    "id": "Joy1jWrkGfGZ",
    "outputId": "003cc5f9-a253-4d58-be3f-e46a1d1a0137"
   },
   "outputs": [],
   "source": [
    "# Imports und Variablen \n"
   ]
  },
  {
   "cell_type": "code",
   "execution_count": null,
   "metadata": {
    "colab": {
     "base_uri": "https://localhost:8080/",
     "height": 54
    },
    "colab_type": "code",
    "executionInfo": {
     "elapsed": 3110,
     "status": "ok",
     "timestamp": 1559730359209,
     "user": {
      "displayName": "Louis Dunkler",
      "photoUrl": "",
      "userId": "10240595284814811066"
     },
     "user_tz": -120
    },
    "id": "aCvCEgQuGxBq",
    "outputId": "416635e0-1c66-4af5-e168-78c60ee4296b"
   },
   "outputs": [],
   "source": [
    "# Laden der Daten Test und Trainset mit Image Augmentation\n",
    "\n"
   ]
  },
  {
   "cell_type": "code",
   "execution_count": null,
   "metadata": {
    "colab": {
     "base_uri": "https://localhost:8080/",
     "height": 129
    },
    "colab_type": "code",
    "executionInfo": {
     "elapsed": 11477,
     "status": "ok",
     "timestamp": 1559730367630,
     "user": {
      "displayName": "Louis Dunkler",
      "photoUrl": "",
      "userId": "10240595284814811066"
     },
     "user_tz": -120
    },
    "id": "k63U3Bc8GzJ0",
    "outputId": "68b821ce-35b1-4518-a902-0c5809f33a74"
   },
   "outputs": [],
   "source": [
    "# Importieren der Faltungsbasis mit ImageNet Gewichten\n"
   ]
  },
  {
   "cell_type": "code",
   "execution_count": null,
   "metadata": {
    "colab": {
     "base_uri": "https://localhost:8080/",
     "height": 293
    },
    "colab_type": "code",
    "executionInfo": {
     "elapsed": 16166,
     "status": "ok",
     "timestamp": 1559730372364,
     "user": {
      "displayName": "Louis Dunkler",
      "photoUrl": "",
      "userId": "10240595284814811066"
     },
     "user_tz": -120
    },
    "id": "sf6qq7wWG0u7",
    "outputId": "452f2e67-5fd6-4ba6-bb1f-0ad3b9ce5888"
   },
   "outputs": [],
   "source": [
    "# Model definieren\n",
    "\n",
    "# Faltungsbasis\n",
    "\n",
    "# Fully Connected Schicht\n"
   ]
  },
  {
   "cell_type": "code",
   "execution_count": null,
   "metadata": {
    "colab": {},
    "colab_type": "code",
    "id": "2vX9BuVhG3yK"
   },
   "outputs": [],
   "source": [
    "# Assemblieren den Modells\n"
   ]
  },
  {
   "cell_type": "code",
   "execution_count": null,
   "metadata": {
    "colab": {
     "base_uri": "https://localhost:8080/",
     "height": 623
    },
    "colab_type": "code",
    "executionInfo": {
     "elapsed": 1051417,
     "status": "ok",
     "timestamp": 1559731407688,
     "user": {
      "displayName": "Louis Dunkler",
      "photoUrl": "",
      "userId": "10240595284814811066"
     },
     "user_tz": -120
    },
    "id": "y7naAhIbG54k",
    "outputId": "8253ef80-1273-4389-9bc8-08edf97926ed"
   },
   "outputs": [],
   "source": [
    "# Trainieren des Modells\n"
   ]
  },
  {
   "cell_type": "code",
   "execution_count": null,
   "metadata": {
    "colab": {
     "base_uri": "https://localhost:8080/",
     "height": 301
    },
    "colab_type": "code",
    "executionInfo": {
     "elapsed": 1051886,
     "status": "ok",
     "timestamp": 1559731408184,
     "user": {
      "displayName": "Louis Dunkler",
      "photoUrl": "",
      "userId": "10240595284814811066"
     },
     "user_tz": -120
    },
    "id": "taZ0B-iYG7gM",
    "outputId": "e245dc2f-5289-48c5-e54c-f35fe6a7af9e"
   },
   "outputs": [],
   "source": [
    "# Plotten der Modell Genauigkeit\n"
   ]
  },
  {
   "cell_type": "code",
   "execution_count": null,
   "metadata": {
    "colab": {},
    "colab_type": "code",
    "id": "Ih2VYCMMP9mV"
   },
   "outputs": [],
   "source": [
    "# Model Speichern\n"
   ]
  }
 ],
 "metadata": {
  "accelerator": "GPU",
  "colab": {
   "collapsed_sections": [],
   "name": "6_NConf_TransferLearning_full_model.ipynb",
   "provenance": [],
   "version": "0.3.2"
  },
  "kernelspec": {
   "display_name": "Python 3",
   "language": "python",
   "name": "python3"
  },
  "language_info": {
   "codemirror_mode": {
    "name": "ipython",
    "version": 3
   },
   "file_extension": ".py",
   "mimetype": "text/x-python",
   "name": "python",
   "nbconvert_exporter": "python",
   "pygments_lexer": "ipython3",
   "version": "3.6.7"
  }
 },
 "nbformat": 4,
 "nbformat_minor": 1
}
