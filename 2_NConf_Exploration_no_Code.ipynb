{
 "cells": [
  {
   "cell_type": "markdown",
   "metadata": {
    "colab_type": "text",
    "id": "XNSh2DteDH2i"
   },
   "source": [
    "# Exloration der Daten\n",
    "\n",
    "In diesem Notebook wollen wir einen Generator schaffen der die Bilder von der Festplatte lädt. Da wir relativ viele Bilder haben ist es nicht sinnvoll alle Bilder auf einmal in den Arbeitsspeicher zu laden."
   ]
  },
  {
   "cell_type": "markdown",
   "metadata": {
    "colab_type": "text",
    "id": "T8L3ZeiBnV3b"
   },
   "source": [
    "Das trennen der Daten in Trainings- und Testset ist essentiell um die Performance des Modells zu testen. Dabei wird ein Teil der Daten während des Trainings zurück gehalten. Nur so lässt sich die \"echte\" Performance und Fähigkeit zu generalisieren des Modells auf ungesehenen Daten testen. Wenn wir auf demselben Set testen, wie wir trainieren, würden wir lediglich messen wie gut unser Modell Dinge auswendig lernen kann."
   ]
  },
  {
   "cell_type": "markdown",
   "metadata": {
    "colab_type": "text",
    "id": "5IlwBFRAb1IF"
   },
   "source": [
    "Im ersten Schritt importieren wir die notwendigen Packages und definieren einige Variablen \n",
    "\n",
    "Dabei wird Pylab benutzt um Bilder zu plotten, und der ImageDataGenerator von Keras um eine Datenpipeline zu bauen, welche Bilder von der Festplatte lädt.\n",
    "\n"
   ]
  },
  {
   "cell_type": "code",
   "execution_count": null,
   "metadata": {
    "colab": {},
    "colab_type": "code",
    "id": "UA8OU6SQDESv"
   },
   "outputs": [],
   "source": [
    "# Definitionen\n",
    "\n"
   ]
  },
  {
   "cell_type": "markdown",
   "metadata": {
    "colab_type": "text",
    "id": "x0tX0H0Ol8Qo"
   },
   "source": [
    "Der ImageDataGenerator von Keras erwartet eine Ordnerstruktur wie folgt:\n",
    "\n",
    "TARGET_DIR\n",
    "\n",
    "  | - Klasse1\n",
    "\n",
    "       | - Bild1_klasse1.png\n",
    "       | - Bild2_klasse1.png\n",
    "       | - Bild3_klasse1.png\n",
    "  | - Klasse2\n",
    "\n",
    "       | - Bild1_klasse2.png\n",
    "       | - Bild2_klasse2.png\n",
    "       | - Bild3_klasse2.png\n",
    "       \n",
    "       \n",
    "Aus der Ordnerstruktur erzeugt der Generator automatisiert die Labels.       "
   ]
  },
  {
   "cell_type": "code",
   "execution_count": null,
   "metadata": {
    "colab": {
     "base_uri": "https://localhost:8080/",
     "height": 54
    },
    "colab_type": "code",
    "executionInfo": {
     "elapsed": 2202,
     "status": "ok",
     "timestamp": 1559667157556,
     "user": {
      "displayName": "Louis Dunkler",
      "photoUrl": "",
      "userId": "10240595284814811066"
     },
     "user_tz": -120
    },
    "id": "xVUVNH3gDvvM",
    "outputId": "e0f0cd36-5c48-4aaf-96fd-fb8a62317c6f"
   },
   "outputs": [],
   "source": [
    "# Laden der Daten mit DataGenerator\n"
   ]
  },
  {
   "cell_type": "code",
   "execution_count": null,
   "metadata": {
    "colab": {
     "base_uri": "https://localhost:8080/",
     "height": 4241
    },
    "colab_type": "code",
    "executionInfo": {
     "elapsed": 6863,
     "status": "ok",
     "timestamp": 1559667162241,
     "user": {
      "displayName": "Louis Dunkler",
      "photoUrl": "",
      "userId": "10240595284814811066"
     },
     "user_tz": -120
    },
    "id": "v569SBWMDxpT",
    "outputId": "f6bc6638-8495-4d88-a2be-e3803451a894"
   },
   "outputs": [],
   "source": [
    "# testen des Batch Generators\n"
   ]
  }
 ],
 "metadata": {
  "accelerator": "GPU",
  "colab": {
   "collapsed_sections": [],
   "name": "2_NConf_Exploration.ipynb",
   "provenance": [],
   "version": "0.3.2"
  },
  "kernelspec": {
   "display_name": "Python 3",
   "language": "python",
   "name": "python3"
  },
  "language_info": {
   "codemirror_mode": {
    "name": "ipython",
    "version": 3
   },
   "file_extension": ".py",
   "mimetype": "text/x-python",
   "name": "python",
   "nbconvert_exporter": "python",
   "pygments_lexer": "ipython3",
   "version": "3.6.7"
  }
 },
 "nbformat": 4,
 "nbformat_minor": 1
}
