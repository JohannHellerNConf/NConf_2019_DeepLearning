{
 "cells": [
  {
   "cell_type": "markdown",
   "metadata": {
    "colab_type": "text",
    "id": "vy0Uvex0Ej7K"
   },
   "source": [
    "# Ein erster CNN Versuch\n",
    "\n",
    "In diesem Notebook wird ein erster Versuch unternommen das Problem mit einem CNN zu lösen. \n",
    "\n",
    "Die üblich Architektur benutzt dabei eine Feature-Extraktion mit Convolutional-Layern, gefolgt von ein paar Schichten von Fully-connected Layern. Diese Architektur wurde unter anderem von AlexNet bekannt gemacht: https://papers.nips.cc/paper/4824-imagenet-classification-with-deep-convolutional-neural-networ\n",
    "\n",
    "![](https://qph.fs.quoracdn.net/main-qimg-9b3d3424df138ad5d7a87506dfddbc94)"
   ]
  },
  {
   "cell_type": "markdown",
   "metadata": {
    "colab_type": "text",
    "id": "ApTuo0z7pXQw"
   },
   "source": [
    "Im ersten Schritt werden wieder die relevanten Packages importiert und Variablen definiert. \n",
    "\n",
    "Zusätzlich zu den bereits eingeführten Packages, importieren  wie einige Keras Packages welche es uns erlauben Modelle zu bauen."
   ]
  },
  {
   "cell_type": "code",
   "execution_count": null,
   "metadata": {
    "colab": {
     "base_uri": "https://localhost:8080/",
     "height": 35
    },
    "colab_type": "code",
    "executionInfo": {
     "elapsed": 1539,
     "status": "ok",
     "timestamp": 1559726296722,
     "user": {
      "displayName": "Louis Dunkler",
      "photoUrl": "",
      "userId": "10240595284814811066"
     },
     "user_tz": -120
    },
    "id": "H2-W_ujQEI3E",
    "outputId": "66859873-819d-4088-8bf7-f54172e28200"
   },
   "outputs": [],
   "source": [
    "# Imports und Variablen \n"
   ]
  },
  {
   "cell_type": "code",
   "execution_count": null,
   "metadata": {
    "colab": {
     "base_uri": "https://localhost:8080/",
     "height": 54
    },
    "colab_type": "code",
    "executionInfo": {
     "elapsed": 2920,
     "status": "ok",
     "timestamp": 1559726298152,
     "user": {
      "displayName": "Louis Dunkler",
      "photoUrl": "",
      "userId": "10240595284814811066"
     },
     "user_tz": -120
    },
    "id": "OFJw4pBCFCNr",
    "outputId": "cb76c6f9-6574-449c-e988-243834f2022f"
   },
   "outputs": [],
   "source": [
    "# Laden der Daten Test und Trainset\n",
    "\n"
   ]
  },
  {
   "cell_type": "markdown",
   "metadata": {
    "colab_type": "text",
    "id": "6MD9l7DorInT"
   },
   "source": [
    "In der nächsten Zelle wird das eigentlich Modell definiert. Dieses setzt sich aus einem Faltungsteil zur Feature-Extraktion und einem Fully-connected Teil zur Klassifikation von Hund oder Katze aus den extrahierten Features zusammen.\n",
    "\n",
    "\n",
    "\n",
    "---\n",
    "\n",
    "## Feature-Extraktion\n",
    "\n",
    "Die Faltungsbasis setzt sich aus mehreren Schichten zusammen. Die einzelnen Schichten sind dabei wie folgt:\n",
    "\n",
    "\n",
    "\n",
    "```\n",
    "model.add(layers.Conv2D(Anzahl_Feature_Maps, Größe_des_Faltungskernels, activation='Wahl_der_Aktivierungsfunktion'))\n",
    "model.add(layers.MaxPooling2D(Größe_des_Poolings))\n",
    "```\n",
    "\n",
    "Die hinteren Schichten haben kleine rezeptive Flächen, aber dafür mehr Feature Maps, bis in der letzten Schicht alle Feature in einen Vektor eingetragen werden\n",
    "\n",
    "### Aktivierungs-Funktion\n",
    "\n",
    "Als Aktivierungsfunktion für CNNs habt sich die Rectified-Linear-Unit sehr bewährt. Diese sieht wie folgt aus:\n",
    "\n",
    "<img src=https://cdn-images-1.medium.com/max/1600/1*DfMRHwxY1gyyDmrIAd-gjQ.png width=\"500\">\n",
    "\n",
    "### Max-Pooling\n",
    "\n",
    "Da in CNNs die genaue Position eines Features irrelevant ist, lässt sich die Performance des Modells stark verbesser indem wir einen Teil der Informationen vernächlässigen. Die passiert durch sogenanntes Max-Pooling wie im folgenden Bild dargestellt.\n",
    "\n",
    "\n",
    "<img src=https://qph.fs.quoracdn.net/main-qimg-8afedfb2f82f279781bfefa269bc6a90.webp width=\"500\">\n",
    "\n",
    "Max-Pooling erlaubt eine starke Reduzierung der Netzgröße ohne dabei die Genauigkeit signifikant zu reduzieren.\n",
    "\n",
    "\n",
    "---\n",
    "\n",
    "## Fully-Connected Schicht\n",
    "\n",
    "Die Fully-Connceted Schicht erhält als Input einen Vektor von Features welche von der Faltungsbasis extrahiert wurden. Als Output soll sie nun einen Wert zwischen 0 und 1 ausgeben, wobei 0 Katze entsprich und 1 Hund. Ein solches Problem wird als binäre Klassifikation bezeichnet.\n",
    "\n",
    "Die Schichten werden dabei wie folgt angebunden:\n",
    "\n",
    "```\n",
    "model.add(layers.Dense(Anzahl_der_Neuronen_in_der_Schicht,activation='sigmoid'))\n",
    "```\n",
    "\n",
    "Die letzte Schicht hat dabei nur ein Neuron (da wir als Output nur den Bereich [0,1] wollen).\n",
    "\n",
    "### Aktivierungs-Funktion\n",
    "\n",
    "Als Aktivierungsfunktion für eine binäre Klassifikation bietet sich die Sigmoid-Funktion an, welche alle Inputs auf den Bereich [0,1] mapt.\n",
    "\n",
    "<img src=https://i.stack.imgur.com/VDOBN.png width=\"500\">\n",
    "\n",
    "\n"
   ]
  },
  {
   "cell_type": "code",
   "execution_count": null,
   "metadata": {
    "colab": {
     "base_uri": "https://localhost:8080/",
     "height": 808
    },
    "colab_type": "code",
    "executionInfo": {
     "elapsed": 2882,
     "status": "ok",
     "timestamp": 1559726298157,
     "user": {
      "displayName": "Louis Dunkler",
      "photoUrl": "",
      "userId": "10240595284814811066"
     },
     "user_tz": -120
    },
    "id": "v32lD1DIE86E",
    "outputId": "806ee474-89a8-4406-87da-70f56401af87"
   },
   "outputs": [],
   "source": [
    "# Model definieren\n",
    "\n",
    "# Faltungsbasis\n",
    "\n",
    "# Fully Connected Schicht\n"
   ]
  },
  {
   "cell_type": "markdown",
   "metadata": {
    "colab_type": "text",
    "id": "4ZBOAoRIyKqm"
   },
   "source": [
    "Im nächsten Schritt soll das Modell assembliert werden. Dabei werden von Keras alle Gewichte mit einem zufälligen Wert initialisiert. \n",
    "\n",
    "Es muss zunächst eine Loss-Funktion und ein Optimierungsalgorithmus vorgegeben werden, welche im Folgenden genauer beschrieben werden.\n",
    "\n",
    "## Loss Funktion\n",
    "\n",
    "Die Loss Funktion bestimmt wie genau der Fehler bestimmt wird. Im Fall einer binären Klassifikation bietet sich die binäre Crossentropy an. Diese misst wie sehr die Wahrscheinlichkeitsverteilung des Ausgangs unseres Modells, mit der Wahrscheinlichkeitsverteilung des Testsets übereinstimmt. Sie ist minimal für den Fall das diese identisch sind.\n",
    "\n",
    "## Optimierungsalgorthimus\n",
    "\n",
    "Das klassische Mini-Batch Stochastic Gradient Descent hat einige Nachteile. So wurden über die Zeit einige adaptive Optimierungsverfahren entwickelt, welche die Lernrate adaptiv anpassen.\n",
    "\n",
    "Ein toller, optischer Vergleich verschiedener Optimierungsalgorithmen für Deep Learning ist [hier](https://imgur.com/a/Hqolp#NKsFHJb)\n",
    "  gegeben.\n",
    "  \n",
    "Eine genaue Einführung würde weit über den Umfang dieses Kurses hinaus gehen. In diesem Beispiel wird RMSprop verwendet, mit einer Lernrate von >5e-5.\n",
    "\n"
   ]
  },
  {
   "cell_type": "code",
   "execution_count": null,
   "metadata": {
    "colab": {},
    "colab_type": "code",
    "id": "-LLRpYm0FIVW"
   },
   "outputs": [],
   "source": [
    "# Assemblieren den Modells\n"
   ]
  },
  {
   "cell_type": "markdown",
   "metadata": {
    "colab_type": "text",
    "id": "CYdc1qdQ3V1v"
   },
   "source": [
    "Als letzter Schritt wird das Netz mit den Trainingsdaten trainiert. Dabei werden aus Zeitgründen nicht (wie üblich) pro Epoche Anzahl_Bilder/Batch_Size gemacht, sondern lediglich einige wenige. In jeder Epoche wird das Modell danach auf dem Test-Set getestet."
   ]
  },
  {
   "cell_type": "code",
   "execution_count": null,
   "metadata": {
    "colab": {
     "base_uri": "https://localhost:8080/",
     "height": 439
    },
    "colab_type": "code",
    "executionInfo": {
     "elapsed": 147594,
     "status": "ok",
     "timestamp": 1559726442928,
     "user": {
      "displayName": "Louis Dunkler",
      "photoUrl": "",
      "userId": "10240595284814811066"
     },
     "user_tz": -120
    },
    "id": "NJUO6Ew1FKBT",
    "outputId": "2ab1ff7f-d841-460a-b8e0-b5673dcbb1b5"
   },
   "outputs": [],
   "source": [
    "# Trainieren des Modells\n"
   ]
  },
  {
   "cell_type": "code",
   "execution_count": null,
   "metadata": {
    "colab": {
     "base_uri": "https://localhost:8080/",
     "height": 287
    },
    "colab_type": "code",
    "executionInfo": {
     "elapsed": 147577,
     "status": "ok",
     "timestamp": 1559726442936,
     "user": {
      "displayName": "Louis Dunkler",
      "photoUrl": "",
      "userId": "10240595284814811066"
     },
     "user_tz": -120
    },
    "id": "C0qe0t4DFMMP",
    "outputId": "58ddb0fa-b9ed-4f96-fb58-3d2b41d670ae"
   },
   "outputs": [],
   "source": [
    "# Plotten der Modell Genauigkeit\n"
   ]
  }
 ],
 "metadata": {
  "accelerator": "GPU",
  "colab": {
   "collapsed_sections": [],
   "name": "3_NConf_NaiveCNN.ipynb",
   "provenance": [],
   "version": "0.3.2"
  },
  "kernelspec": {
   "display_name": "Python 3",
   "language": "python",
   "name": "python3"
  },
  "language_info": {
   "codemirror_mode": {
    "name": "ipython",
    "version": 3
   },
   "file_extension": ".py",
   "mimetype": "text/x-python",
   "name": "python",
   "nbconvert_exporter": "python",
   "pygments_lexer": "ipython3",
   "version": "3.6.7"
  }
 },
 "nbformat": 4,
 "nbformat_minor": 1
}
