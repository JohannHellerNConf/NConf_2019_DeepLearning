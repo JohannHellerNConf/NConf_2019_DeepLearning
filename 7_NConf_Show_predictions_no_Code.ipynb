{
 "cells": [
  {
   "cell_type": "markdown",
   "metadata": {
    "colab_type": "text",
    "id": "hBD4_DJ9QSX4"
   },
   "source": [
    "# Visualisierung des Ergebnisses\n",
    "\n",
    "In diesem Notebook wollen wir das finale Modell  laden und uns die Bilder anschauen die falsch klassifiziert werden. Evtl. können wir so wichtige Informationen erhalten was unser Modell falsch macht."
   ]
  },
  {
   "cell_type": "code",
   "execution_count": null,
   "metadata": {
    "colab": {
     "base_uri": "https://localhost:8080/",
     "height": 35
    },
    "colab_type": "code",
    "executionInfo": {
     "elapsed": 41200,
     "status": "ok",
     "timestamp": 1559732476190,
     "user": {
      "displayName": "Louis Dunkler",
      "photoUrl": "",
      "userId": "10240595284814811066"
     },
     "user_tz": -120
    },
    "id": "ZYNEndPEQRXr",
    "outputId": "fb7f0b6a-5f85-4108-f32d-13b2afe48408"
   },
   "outputs": [],
   "source": [
    "# Variablen importieren und Modell Laden"
   ]
  },
  {
   "cell_type": "markdown",
   "metadata": {
    "colab_type": "text",
    "id": "2D-oPXLdU3wn"
   },
   "source": [
    "Dazu werden lediglich alle Bilder geladen und mit ihrem Label verglichen. "
   ]
  },
  {
   "cell_type": "code",
   "execution_count": null,
   "metadata": {
    "colab": {
     "base_uri": "https://localhost:8080/",
     "height": 1486
    },
    "colab_type": "code",
    "executionInfo": {
     "elapsed": 21135,
     "status": "ok",
     "timestamp": 1559732714630,
     "user": {
      "displayName": "Louis Dunkler",
      "photoUrl": "",
      "userId": "10240595284814811066"
     },
     "user_tz": -120
    },
    "id": "cP7IeSliQqpy",
    "outputId": "2b8d26d7-d008-4e99-d707-e2ff768e5e38"
   },
   "outputs": [],
   "source": [
    "# Alle Bilder aus Testset vorhersagen und Fehler bestimmen\n"
   ]
  },
  {
   "cell_type": "markdown",
   "metadata": {
    "colab_type": "text",
    "id": "u97T7Qc3U_-_"
   },
   "source": [
    "Lediglich 31 von 2500 Bildern wurden falsch klassifiziert. Bei einigen der Bildern ist eine falsche Klassifikation verständlich, da z.B. Hunde und Katzen auf dem Bild sind, oder das Tier kaum sichtbar ist. Eine wichtige Erkenntnis die wir aus dieser Visualisierung bekommen, ist das unser Modell offensichtlich Probleme hat sehr junge Tiere beider Klassen zu klassifizieren und bei Bildern von geringer Auflösung. Diese Erkenntnis könnten wir nun nutzen, und gezielt mehr Daten von zu sammeln um das Modell weiter zu verbessern."
   ]
  },
  {
   "cell_type": "code",
   "execution_count": null,
   "metadata": {
    "colab": {
     "base_uri": "https://localhost:8080/",
     "height": 7904,
     "output_embedded_package_id": "1_-5zyAYJavxW0EaDykTfCMGwoqUwtGhM"
    },
    "colab_type": "code",
    "executionInfo": {
     "elapsed": 13029,
     "status": "ok",
     "timestamp": 1559732746590,
     "user": {
      "displayName": "Louis Dunkler",
      "photoUrl": "",
      "userId": "10240595284814811066"
     },
     "user_tz": -120
    },
    "id": "6vBcvc2lToix",
    "outputId": "f2bb5b33-6345-488b-d422-7a8d988382f9"
   },
   "outputs": [],
   "source": [
    "# Plotten aller falschen Bilder"
   ]
  }
 ],
 "metadata": {
  "accelerator": "GPU",
  "colab": {
   "collapsed_sections": [],
   "name": "7_NConf_Show_predictions.ipynb",
   "provenance": [],
   "version": "0.3.2"
  },
  "kernelspec": {
   "display_name": "Python 3",
   "language": "python",
   "name": "python3"
  },
  "language_info": {
   "codemirror_mode": {
    "name": "ipython",
    "version": 3
   },
   "file_extension": ".py",
   "mimetype": "text/x-python",
   "name": "python",
   "nbconvert_exporter": "python",
   "pygments_lexer": "ipython3",
   "version": "3.6.7"
  }
 },
 "nbformat": 4,
 "nbformat_minor": 1
}
