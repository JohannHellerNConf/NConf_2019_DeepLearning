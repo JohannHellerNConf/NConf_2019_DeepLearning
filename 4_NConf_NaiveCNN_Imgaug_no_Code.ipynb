{
 "cells": [
  {
   "cell_type": "markdown",
   "metadata": {
    "colab_type": "text",
    "id": "vy0Uvex0Ej7K"
   },
   "source": [
    "# Image Augmentation\n",
    "\n",
    "In diesem Notebook wird das letzt Notebook um eine sogenannte Image-Augmentation erweitert.\n",
    "\n",
    "Diese wird angewandt um das Trainingsset künstlich zu erweitern in dem zufällige Transformationen auf die Bilder angewandt werden.\n",
    "\n",
    "![](https://blog.keras.io/img/imgclf/cat_data_augmentation.png)\n",
    "\n",
    "Welche Transformationen Sinn machen und ob diese Technik wirklich hilft ist extrem abhängig von der spezifischen Anwendungen. Da aber quasi alle praktischen Anwendungen chronisch zu wenig Daten haben, ist es eine sehr häufg verwendete Technik."
   ]
  },
  {
   "cell_type": "code",
   "execution_count": null,
   "metadata": {
    "colab": {
     "base_uri": "https://localhost:8080/",
     "height": 35
    },
    "colab_type": "code",
    "executionInfo": {
     "elapsed": 1792,
     "status": "ok",
     "timestamp": 1559726547181,
     "user": {
      "displayName": "Louis Dunkler",
      "photoUrl": "",
      "userId": "10240595284814811066"
     },
     "user_tz": -120
    },
    "id": "H2-W_ujQEI3E",
    "outputId": "c1ce0d61-df5e-48ff-8406-19f099feef69"
   },
   "outputs": [],
   "source": [
    "# Imports und Variablen \n"
   ]
  },
  {
   "cell_type": "markdown",
   "metadata": {
    "colab_type": "text",
    "id": "RR-3X7KN6dcx"
   },
   "source": [
    "Als einziger Unterschied zum vorherigen Notebook werden im Generator für die Trainingsdaten einige Transfomrationen eingefügt, wie z.B. das zufällige horizontale Flippen der Bilder, oder einen zufälligen Zoom um +- 20%.\n",
    "\n",
    "Eine Augmentation des Test-sets macht erstmal keinen Sinn."
   ]
  },
  {
   "cell_type": "code",
   "execution_count": null,
   "metadata": {
    "colab": {
     "base_uri": "https://localhost:8080/",
     "height": 54
    },
    "colab_type": "code",
    "executionInfo": {
     "elapsed": 2581,
     "status": "ok",
     "timestamp": 1559726548027,
     "user": {
      "displayName": "Louis Dunkler",
      "photoUrl": "",
      "userId": "10240595284814811066"
     },
     "user_tz": -120
    },
    "id": "OFJw4pBCFCNr",
    "outputId": "1c2d268c-dc22-4228-b499-9653d94f43d0"
   },
   "outputs": [],
   "source": [
    "# Laden der Daten Test und Trainset mit Image Augmentation\n",
    "\n"
   ]
  },
  {
   "cell_type": "code",
   "execution_count": null,
   "metadata": {
    "colab": {
     "base_uri": "https://localhost:8080/",
     "height": 808
    },
    "colab_type": "code",
    "executionInfo": {
     "elapsed": 2553,
     "status": "ok",
     "timestamp": 1559726548032,
     "user": {
      "displayName": "Louis Dunkler",
      "photoUrl": "",
      "userId": "10240595284814811066"
     },
     "user_tz": -120
    },
    "id": "v32lD1DIE86E",
    "outputId": "02e72174-7768-49db-eb45-9c8f31f164b5"
   },
   "outputs": [],
   "source": [
    "# Model definieren\n",
    "\n",
    "# Faltungsbasis\n",
    "\n",
    "# Fully Connected Schicht\n"
   ]
  },
  {
   "cell_type": "code",
   "execution_count": null,
   "metadata": {
    "colab": {},
    "colab_type": "code",
    "id": "-LLRpYm0FIVW"
   },
   "outputs": [],
   "source": [
    "# Assemblieren den Modells\n"
   ]
  },
  {
   "cell_type": "code",
   "execution_count": null,
   "metadata": {
    "colab": {
     "base_uri": "https://localhost:8080/",
     "height": 439
    },
    "colab_type": "code",
    "executionInfo": {
     "elapsed": 258725,
     "status": "ok",
     "timestamp": 1559726804248,
     "user": {
      "displayName": "Louis Dunkler",
      "photoUrl": "",
      "userId": "10240595284814811066"
     },
     "user_tz": -120
    },
    "id": "NJUO6Ew1FKBT",
    "outputId": "d01347d9-de26-4802-f5cb-6e6e06611779"
   },
   "outputs": [],
   "source": [
    "# Trainieren des Modells\n"
   ]
  },
  {
   "cell_type": "code",
   "execution_count": null,
   "metadata": {
    "colab": {
     "base_uri": "https://localhost:8080/",
     "height": 287
    },
    "colab_type": "code",
    "executionInfo": {
     "elapsed": 259170,
     "status": "ok",
     "timestamp": 1559726804715,
     "user": {
      "displayName": "Louis Dunkler",
      "photoUrl": "",
      "userId": "10240595284814811066"
     },
     "user_tz": -120
    },
    "id": "C0qe0t4DFMMP",
    "outputId": "51690a5d-4774-4fd3-ea3c-bf7cc1938b60"
   },
   "outputs": [],
   "source": [
    "# Plotten der Modell Genauigkeit\n"
   ]
  }
 ],
 "metadata": {
  "accelerator": "GPU",
  "colab": {
   "collapsed_sections": [],
   "name": "4_NConf_NaiveCNN_Imgaug.ipynb",
   "provenance": [],
   "version": "0.3.2"
  },
  "kernelspec": {
   "display_name": "Python 3",
   "language": "python",
   "name": "python3"
  },
  "language_info": {
   "codemirror_mode": {
    "name": "ipython",
    "version": 3
   },
   "file_extension": ".py",
   "mimetype": "text/x-python",
   "name": "python",
   "nbconvert_exporter": "python",
   "pygments_lexer": "ipython3",
   "version": "3.6.7"
  }
 },
 "nbformat": 4,
 "nbformat_minor": 1
}
